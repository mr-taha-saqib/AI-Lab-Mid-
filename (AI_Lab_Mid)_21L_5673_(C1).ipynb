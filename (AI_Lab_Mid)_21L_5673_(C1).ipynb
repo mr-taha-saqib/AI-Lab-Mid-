{
  "cells": [
    {
      "cell_type": "code",
      "execution_count": null,
      "id": "15a63e93",
      "metadata": {
        "id": "15a63e93",
        "outputId": "5ae7d1b4-20d2-435d-e2e0-5add089bf747"
      },
      "outputs": [
        {
          "name": "stdout",
          "output_type": "stream",
          "text": [
            "Output: {'apple': 25, 'banana': 8, 'orange': 20, 'grapes': 15}\n"
          ]
        }
      ],
      "source": [
        "# Question 1\n",
        "def aggregate_sales(s_data):\n",
        "\n",
        "    t_sales = {} #empty\n",
        "    for data in s_data:\n",
        "        for product, quan in data.items():\n",
        "            if product in t_sales: #total sales\n",
        "                t_sales[product] = t_sales[product] + quan\n",
        "            else:\n",
        "                t_sales[product] = quan\n",
        "\n",
        "    return t_sales\n",
        "\n",
        "s_data = [ #dictionary\n",
        "    {\"apple\": 10, \"banana\": 5, \"orange\": 8},\n",
        "    {\"apple\": 15, \"banana\": 3, \"grapes\": 6},\n",
        "    {\"orange\": 12, \"grapes\": 9}\n",
        "]\n",
        "print('Output:',aggregate_sales(s_data))"
      ]
    },
    {
      "cell_type": "code",
      "execution_count": null,
      "id": "b0d07bb3",
      "metadata": {
        "id": "b0d07bb3"
      },
      "outputs": [],
      "source": [
        "# Question 2"
      ]
    },
    {
      "cell_type": "code",
      "execution_count": null,
      "id": "275f3899",
      "metadata": {
        "id": "275f3899"
      },
      "outputs": [],
      "source": [
        "import heapq #priority queue\n",
        "\n",
        "def find_shortest_path(grid, start, target, rows, cols):\n",
        "    directions = [(0, 1), (1, 0), (0, -1), (-1, 0)]\n",
        "\n",
        "    open_set = [(grid[start[0]][start[1]], start)] # open and closed set\n",
        "    closed_set = set()\n",
        "    came = {}\n",
        "\n",
        "    def get_neighbors(curr): # row, col neighbours, no diagnol\n",
        "        neighbors = []\n",
        "        for direct in directions:\n",
        "            neighbor = (curr[0] + direct[0], curr[1] + direct[1])\n",
        "            if 0 <= neighbor[0] < rows and 0 <= neighbor[1] < cols and grid[neighbor[0]][neighbor[1]] != 'X': # Block X\n",
        "                neighbors.append(neighbor)\n",
        "        return neighbors\n",
        "\n",
        "    def heuristic(x, y): #heursitic (manhattan)\n",
        "        return abs(x[0] - y[0]) + abs(x[1] - y[1])\n",
        "\n",
        "    while open_set:\n",
        "        curr = heapq.heappop(open_set)[1]\n",
        "        if curr == target:         # reconstruct the path and return it\n",
        "            path = [curr]\n",
        "            while curr in came:\n",
        "                curr = came[curr]\n",
        "                path.append(curr)\n",
        "            return path [::-1]\n",
        "\n",
        "        closed_set.add(curr)\n",
        "        for neighbor in get_neighbors(curr): # Get the neighbors\n",
        "            if neighbor in closed_set:\n",
        "                continue\n",
        "\n",
        "            # Check: grid values are strings and digits\n",
        "            if isinstance(grid[curr[0]][curr[1]], str) and grid[curr[0]][curr[1]].isdigit() and isinstance(grid[neighbor[0]][neighbor[1]], str) and grid[neighbor[0]][neighbor[1]].isdigit():\n",
        "                t_cost = int(grid[curr[0]][curr[1]]) + int(grid[neighbor[0]][neighbor[1]])\n",
        "            else:\n",
        "                t_cost = float('inf')\n",
        "\n",
        "            # If neighbor in closed set or calculated cost < current cost\n",
        "            if neighbor not in [item[1] for item in open_set] or t_cost < [item for item in open_set if item[1] == neighbor][0][0]:\n",
        "                open_set.append((t_cost, neighbor))\n",
        "                heapq.heapify(open_set)\n",
        "                came[neighbor] = curr # update cost\n",
        "    return []"
      ]
    },
    {
      "cell_type": "code",
      "execution_count": null,
      "id": "511fd342",
      "metadata": {
        "id": "511fd342",
        "outputId": "3ccd2f51-d111-436f-d909-348e8df2dbd5"
      },
      "outputs": [
        {
          "name": "stdout",
          "output_type": "stream",
          "text": [
            "Optimal Path From S to T is: [(0, 2), (0, 3), (1, 3), (2, 3)]\n"
          ]
        }
      ],
      "source": [
        "grid = [\n",
        "    [1, 2, 'S', 4],\n",
        "    [3, 'X', 6, 7],\n",
        "    [8, 9, 10, 'T']\n",
        "]\n",
        "start = (0, 2)\n",
        "target = (2, 3)\n",
        "rows, cols = 3, 4 # dimensions\n",
        "path = find_shortest_path(grid, start, target, rows, cols)\n",
        "print('Optimal Path From S to T is:', path)"
      ]
    },
    {
      "cell_type": "code",
      "execution_count": null,
      "id": "d0c2eedd",
      "metadata": {
        "id": "d0c2eedd"
      },
      "outputs": [],
      "source": []
    }
  ],
  "metadata": {
    "kernelspec": {
      "display_name": "Python 3",
      "language": "python",
      "name": "python3"
    },
    "language_info": {
      "codemirror_mode": {
        "name": "ipython",
        "version": 3
      },
      "file_extension": ".py",
      "mimetype": "text/x-python",
      "name": "python",
      "nbconvert_exporter": "python",
      "pygments_lexer": "ipython3",
      "version": "3.8.8"
    },
    "colab": {
      "provenance": []
    }
  },
  "nbformat": 4,
  "nbformat_minor": 5
}